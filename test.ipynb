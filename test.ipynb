{
 "cells": [
  {
   "cell_type": "code",
   "execution_count": 1,
   "metadata": {},
   "outputs": [],
   "source": [
    "import numpy as np\n",
    "import random\n",
    "import scipy.special\n",
    "import os\n",
    "from scipy.stats import bernoulli   "
   ]
  },
  {
   "cell_type": "code",
   "execution_count": 2,
   "metadata": {},
   "outputs": [],
   "source": [
    "from syn_data_generator import *"
   ]
  },
  {
   "cell_type": "code",
   "execution_count": 3,
   "metadata": {},
   "outputs": [],
   "source": [
    "run_dict ={ 'outdir': \"./Syn_8_8_8_2_10000/\",\n",
    "                'size': 10000,\n",
    "                'num': 10,\n",
    "                'mA': 8,\n",
    "                'mB': 8,\n",
    "                'mC': 8,\n",
    "                'mD': 2,\n",
    "                \"sc\": 1.0,\n",
    "                \"sh\": 0.0,\n",
    "                \"init_seed\": 4,\n",
    "                \"random_coef\": \"F\",\n",
    "                \"coef_t_AB\": [8,8,11,13,8,8,16,11,13,16,11,16,8,8,8,8],\n",
    "                \"coef_y1_BC\": [11,8,8,16,13,8,8,16,13,16,11,11,8,8,8,8],\n",
    "                \"coef_y2_BC\": [8,8,8,8,16,13,11,11,13,11,16,11,8,8,8,8],\n",
    "                \"coef_devide_1\": 10,\n",
    "                \"coef_devide_2\": 10,\n",
    "                \"coef_devide_3\": 10,\n",
    "                \"use_one\": \"F\",\n",
    "               }"
   ]
  },
  {
   "cell_type": "code",
   "execution_count": 4,
   "metadata": {},
   "outputs": [],
   "source": [
    "# train & test size\n",
    "size = run_dict['size']\n",
    "size_train = int(run_dict['size'] * 0.9)\n",
    "size_test = int(run_dict['size'] * 0.1)\n",
    "\n",
    "# Number of repeated experiments\n",
    "num_exp = run_dict[\"num\"]\n",
    "\n",
    "''' Setting... '''\n",
    "mA = run_dict[\"mA\"]  # Dimensions of instrumental variables\n",
    "mB = run_dict[\"mB\"]  # Dimensions of confounding variables\n",
    "mC = run_dict[\"mC\"]  # Dimensions of adjustment variables\n",
    "mD = run_dict[\"mD\"]  # Dimensions of irrelevant variables\n",
    "# all dimension\n",
    "max_dim = mA + mB + mC + mD"
   ]
  },
  {
   "cell_type": "code",
   "execution_count": 5,
   "metadata": {},
   "outputs": [
    {
     "name": "stdout",
     "output_type": "stream",
     "text": [
      "x.shape: (1000000, 26) t.shape: (1000000,) mu0.shape: (1000000,) mu1.shape: (1000000,)\n"
     ]
    }
   ],
   "source": [
    "# generate X & T & Y0 & Y1\n",
    "raw_data = generate_XTY(run_dict, size)"
   ]
  },
  {
   "cell_type": "code",
   "execution_count": 14,
   "metadata": {},
   "outputs": [],
   "source": [
    "data = raw_data"
   ]
  },
  {
   "cell_type": "code",
   "execution_count": 15,
   "metadata": {},
   "outputs": [],
   "source": [
    "nall = data['x'].shape[0]\n",
    "prob = np.ones(nall)\n",
    "\n",
    "ite = data['mu1']-data['mu0']"
   ]
  },
  {
   "cell_type": "code",
   "execution_count": 21,
   "metadata": {},
   "outputs": [],
   "source": [
    "ite.shape\n",
    "dim_v = mD\n",
    "r = -3.0"
   ]
  },
  {
   "cell_type": "code",
   "execution_count": 24,
   "metadata": {},
   "outputs": [],
   "source": [
    "for idv in range(dim_v):\n",
    "    # 和表达式不一样\n",
    "    d = np.abs(data['x'][:, -idv - 1] - np.sign(r) * ite) \n",
    "    prob = prob * np.power(np.abs(r), -10 * d)"
   ]
  },
  {
   "cell_type": "code",
   "execution_count": 27,
   "metadata": {},
   "outputs": [],
   "source": [
    "prob = prob / np.sum(prob)"
   ]
  },
  {
   "cell_type": "code",
   "execution_count": 28,
   "metadata": {},
   "outputs": [
    {
     "data": {
      "text/plain": [
       "array([2.33032758e-40, 1.49785104e-93, 1.08064613e-08, ...,\n",
       "       8.23124201e-28, 3.19506377e-49, 1.05000613e-09])"
      ]
     },
     "execution_count": 28,
     "metadata": {},
     "output_type": "execute_result"
    }
   ],
   "source": [
    "prob"
   ]
  },
  {
   "cell_type": "code",
   "execution_count": 30,
   "metadata": {},
   "outputs": [],
   "source": [
    "idx = np.random.choice(range(nall), size, p=prob)"
   ]
  },
  {
   "cell_type": "code",
   "execution_count": 32,
   "metadata": {},
   "outputs": [
    {
     "data": {
      "text/plain": [
       "(10000,)"
      ]
     },
     "execution_count": 32,
     "metadata": {},
     "output_type": "execute_result"
    }
   ],
   "source": [
    "idx.shape"
   ]
  },
  {
   "cell_type": "code",
   "execution_count": null,
   "metadata": {},
   "outputs": [],
   "source": []
  }
 ],
 "metadata": {
  "kernelspec": {
   "display_name": "causalml-py38",
   "language": "python",
   "name": "python3"
  },
  "language_info": {
   "codemirror_mode": {
    "name": "ipython",
    "version": 3
   },
   "file_extension": ".py",
   "mimetype": "text/x-python",
   "name": "python",
   "nbconvert_exporter": "python",
   "pygments_lexer": "ipython3",
   "version": "3.8.16"
  }
 },
 "nbformat": 4,
 "nbformat_minor": 2
}
