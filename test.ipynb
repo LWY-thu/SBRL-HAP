{
 "cells": [
  {
   "cell_type": "code",
   "execution_count": 1,
   "metadata": {},
   "outputs": [],
   "source": [
    "import numpy as np\n",
    "import random\n",
    "import scipy.special\n",
    "import os\n",
    "from scipy.stats import bernoulli   "
   ]
  },
  {
   "cell_type": "code",
   "execution_count": 2,
   "metadata": {},
   "outputs": [],
   "source": [
    "from syn_data_generator import *"
   ]
  },
  {
   "cell_type": "code",
   "execution_count": 3,
   "metadata": {},
   "outputs": [],
   "source": [
    "# example: Syn_8_8_8_2 with size n=10000\n",
    "run_dict ={ 'outdir': \"./Syn_8_8_8_2_10000/\",\n",
    "            'size': 10000,\n",
    "            'num': 10,\n",
    "            'mA': 8,\n",
    "            'mB': 8,\n",
    "            'mC': 8,\n",
    "            'mD': 2,\n",
    "            \"sc\": 1.0,\n",
    "            \"sh\": 0.0,\n",
    "            \"init_seed\": 4,\n",
    "            \"random_coef\": \"F\",\n",
    "            \"coef_t_AB\": [8,8,11,13,8,8,16,11,13,16,11,16,8,8,8,8],\n",
    "            \"coef_y1_BC\": [11,8,8,16,13,8,8,16,13,16,11,11,8,8,8,8],\n",
    "            \"coef_y2_BC\": [8,8,8,8,16,13,11,11,13,11,16,11,8,8,8,8],\n",
    "            \"coef_devide_1\": 10,\n",
    "            \"coef_devide_2\": 10,\n",
    "            \"coef_devide_3\": 10,\n",
    "            \"use_one\": \"F\",\n",
    "            }"
   ]
  },
  {
   "cell_type": "code",
   "execution_count": 4,
   "metadata": {},
   "outputs": [
    {
     "name": "stdout",
     "output_type": "stream",
     "text": [
      "AB.shape  (1000000, 16)\n",
      "coefs_1.shape  (16,)\n",
      "per.shape  (1000000,)\n",
      "z.shape  (1000000,)\n",
      "x.shape: (1000000, 26) t.shape: (1000000,) mu0.shape: (1000000,) mu1.shape: (1000000,)\n"
     ]
    }
   ],
   "source": [
    "run(run_dict)"
   ]
  },
  {
   "cell_type": "code",
   "execution_count": null,
   "metadata": {},
   "outputs": [],
   "source": []
  }
 ],
 "metadata": {
  "kernelspec": {
   "display_name": "causalml-py38",
   "language": "python",
   "name": "python3"
  },
  "language_info": {
   "codemirror_mode": {
    "name": "ipython",
    "version": 3
   },
   "file_extension": ".py",
   "mimetype": "text/x-python",
   "name": "python",
   "nbconvert_exporter": "python",
   "pygments_lexer": "ipython3",
   "version": "3.6.13"
  }
 },
 "nbformat": 4,
 "nbformat_minor": 2
}
